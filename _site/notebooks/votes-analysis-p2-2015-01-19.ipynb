{
 "cells": [
  {
   "cell_type": "markdown",
   "metadata": {},
   "source": [
    "---\n",
    "layout: post\n",
    "date: 2016-03-19\n",
    "title: Votes and Spending, Part 2&#58;</br>\n",
    "    Spending through the ages\n",
    "---\n",
    "\n",
    "\n",
    "\n",
    "\n",
    "I [previously]({ post_url basic-vote-analysis-2015-01-13 }) found that at large democratic city council candidates who spend more money in the cycle prior to the primary generally receive a larger fraction of votes {% marginnote 'spending-exception' 'With the exception of one candidate who received a large fraction of votes though he claimed to have no expenditures. We will find similar occurrences in this analysis' %}. Here I extend the same analysis to two additional city council election cycles for which I could easily acquire data. I find a similar pattern particularly when standardized within year to account for campaign spending related inflation. Many regulatory changes occured over the time span of the analysis.\n",
    "<!--more-->\n",
    "\n",
    "## Voting data, 2007, 2011, and 2015\n",
    "We begin with loading and combining the voting data. At the end of this section we'll have a list of the candidates grouped by election year with the number and percentage of votes they each got."
   ]
  },
  {
   "cell_type": "code",
   "execution_count": 1,
   "metadata": {
    "collapsed": true
   },
   "outputs": [],
   "source": [
    "import pandas as pd\n",
    "import numpy as np\n",
    "import urllib2\n",
    "\n",
    "vote_url_2015 = 'http://www.philadelphiavotes.com/files/raw-data/2015_primary.csv'\n",
    "vote_stream_2015 = urllib2.urlopen(vote_url_2015)\n",
    "primary_2015 = pd.read_csv(vote_stream_2015,sep=',')\n",
    "\n",
    "vote_url_2011 = 'http://www.philadelphiavotes.com/files/raw-data/2011_primary.csv'\n",
    "vote_stream_2011 = urllib2.urlopen(vote_url_2011)\n",
    "primary_2011 = pd.read_csv(vote_stream_2011,sep=',')\n",
    "\n",
    "vote_url_2007 = 'http://www.philadelphiavotes.com/files/raw-data/2007_primary.csv'\n",
    "vote_stream_2007 = urllib2.urlopen(vote_url_2007)\n",
    "primary_2007 = pd.read_csv(vote_stream_2007,sep=',')"
   ]
  },
  {
   "cell_type": "markdown",
   "metadata": {},
   "source": [
    "First, I that the column names across the elections are the same. They differ in 2015, so I renamed the columns of that year to match the others. Then to each data frame I added a year column. I also checked the label for the At Large Democratic Council election and found it changed between 2007 and 2011."
   ]
  },
  {
   "cell_type": "code",
   "execution_count": 3,
   "metadata": {
    "collapsed": false
   },
   "outputs": [],
   "source": [
    "primary_2015.rename(columns={'VOTE':'VOTES','CANDIDATE':'NAME'},inplace=True)\n",
    "primary_2007['YEAR']=2007\n",
    "primary_2011['YEAR']=2011\n",
    "primary_2015['YEAR']=2015\n",
    "office_str_2015 = 'COUNCIL AT LARGE-DEM'\n",
    "office_str_2011 = 'COUNCIL AT LARGE-DEM'\n",
    "office_str_2007 = 'COUNCIL AT LARGE-D'\n",
    "primaries = pd.concat((primary_2007,primary_2011,primary_2015))"
   ]
  },
  {
   "cell_type": "code",
   "execution_count": 4,
   "metadata": {
    "collapsed": false
   },
   "outputs": [],
   "source": [
    "dem_council_primaries = primaries[primaries.OFFICE.isin([office_str_2007,office_str_2011])]\n",
    "cgroup = dem_council_primaries.groupby(['YEAR','NAME'])\n",
    "cgroup_sum = cgroup.sum()\n",
    "cgroup_sum.drop(['WARD','DIVISION'],axis=1,inplace=True)\n",
    "tot_votes = dem_council_primaries.groupby('YEAR').sum()['VOTES']\n",
    "years = [2007,2011,2015]\n",
    "vote_pcts = np.hstack([(cgroup_sum['VOTES'][year]/cgroup_sum['VOTES'][year].sum()).values for year in years])\n",
    "cgroup_sum['VOTES_PCTS'] = vote_pcts"
   ]
  },
  {
   "cell_type": "code",
   "execution_count": 5,
   "metadata": {
    "collapsed": false
   },
   "outputs": [
    {
     "name": "stdout",
     "output_type": "stream",
     "text": [
      "Total number of votes in 2007: 709720\n",
      "Total number of votes in 2011: 477008\n",
      "Total number of votes in 2015: 644038\n"
     ]
    }
   ],
   "source": [
    "for year in years:\n",
    "    print(\"Total number of votes in \"+str(year)+\": \" +str(tot_votes[year]))"
   ]
  },
  {
   "cell_type": "markdown",
   "metadata": {},
   "source": [
    "With an incumbent mayor running for reelection in 2011, it's not too surprising to find a lower turnout. Next, let's collect and sort the finance data.\n",
    "\n",
    "## Campaign finance data, 2007, 2011, and 2015"
   ]
  },
  {
   "cell_type": "code",
   "execution_count": 6,
   "metadata": {
    "collapsed": true
   },
   "outputs": [],
   "source": [
    "csv_dtype = {'EntityZip' : str,\n",
    "             'EmployerZip': str}\n",
    "\n",
    "data_url_2015 = 'ftp://ftp.phila-records.com/Year-to-Date%20Transaction%20Files/2015%20YTD/Explorer.Transactions.2015.YTD.txt'\n",
    "data_stream_2015 = urllib2.urlopen(data_url_2015)\n",
    "#Year to date (YTD)\n",
    "finance_2015 = pd.read_csv(data_stream_2015,sep='\\t',quotechar='\"',\n",
    "                      error_bad_lines=False, dtype=csv_dtype)\n",
    "\n",
    "\n",
    "data_url_2011 = 'ftp://ftp.phila-records.com/Year-to-Date%20Transaction%20Files/2011%20YTD/Explorer.Transactions.2011.txt'\n",
    "data_stream_2011 = urllib2.urlopen(data_url_2011)\n",
    "#Year to date (YTD)\n",
    "finance_2011 = pd.read_csv(data_stream_2011,sep='\\t',quotechar='\"',\n",
    "                      error_bad_lines=False, dtype=csv_dtype)\n",
    "\n",
    "data_url_2007 = 'ftp://ftp.phila-records.com/Year-to-Date%20Transaction%20Files/2007%20YTD/Explorer.Transactions.2007ytd.txt'\n",
    "data_stream_2007 = urllib2.urlopen(data_url_2007)\n",
    "#Year to date (YTD)\n",
    "finance_2007 = pd.read_csv(data_stream_2007,sep='\\t',quotechar='\"',\n",
    "                      error_bad_lines=False, dtype=csv_dtype)\n",
    "\n"
   ]
  },
  {
   "cell_type": "markdown",
   "metadata": {},
   "source": [
    "As before, I need to remove amended lines to cut back on counting duplicated entries."
   ]
  },
  {
   "cell_type": "code",
   "execution_count": 7,
   "metadata": {
    "collapsed": true
   },
   "outputs": [],
   "source": [
    "def filter_amends(df):\n",
    "    \"\"\"\n",
    "    df is a ytd data frame including amended reports.\n",
    "    This function filters out duplicate information in amendment stages and \n",
    "    keeps only the latest data.\n",
    "    Pseudocode:\n",
    "        -for each cycle check for each filer check if amended records\n",
    "            -if filer in cycle had an amended record get most recent subdate:\n",
    "                keep those lines\n",
    "            -if filer had no amendments in cycle keep those lines\n",
    "    returns a list of indices of lines in dataframe corresponding to latest\n",
    "    filing data\n",
    "    \"\"\"\n",
    "    indices_to_keep = np.array([],dtype='int64')\n",
    "    cycles = df.Cycle.unique()\n",
    "    for c in cycles:\n",
    "        filers = df.loc[df.Cycle==c].FilerName.unique()\n",
    "        dfc = df.loc[df.Cycle==c]\n",
    "        for f in filers:\n",
    "            dfcf = dfc.loc[dfc.FilerName==f]\n",
    "            if np.sum(dfcf.Amended.str.contains('Y|y',na=False)):\n",
    "                #print \"amended: \" + str(dfcf.SubDate.max())\n",
    "                maxdate = dfcf.SubDate.max()\n",
    "                #print 'amended: '+str(dfcf.loc[dfcf.SubDate == maxdate].index)\n",
    "                indices_to_keep=np.append(indices_to_keep,dfcf.loc[dfcf.SubDate == maxdate].index)\n",
    "            else:\n",
    "                #print \"not amended\"\n",
    "                indices_to_keep=np.append(indices_to_keep,dfcf.index)\n",
    "    return indices_to_keep\n",
    "\n",
    "\n",
    "finance_2015 = finance_2015.iloc[filter_amends(finance_2015)]\n",
    "finance_2011 = finance_2011.iloc[filter_amends(finance_2011)]\n",
    "finance_2007 = finance_2007.iloc[filter_amends(finance_2007)]"
   ]
  },
  {
   "cell_type": "markdown",
   "metadata": {},
   "source": [
    "The finance data has matching columns for each year. As before, I use hand made tags based on unique values in the FilerName column and match those up to the candidate names from the voting data. This was a little tedious and is subject to the usual sorts of human error/inaccuracy. Even without those errors, the routing of money through PACs makes this especially difficult because it is hard to know from this data alone which candidate each PAC supported. For instance, an expense description of \"media\" or \"consulting\" or \"GOTV\" does not describe which candidate the PAC supported. Since I can not track down every political ad or GOTV worker, I restricted the tags to only committees and candidate names I can readily identify with a name on the ballot. {% marginnote 'more-problems' 'There are many other data problems too. Many PACs and candidates simply don't file. If they even get noticed, the fines are relatively small.' %}"
   ]
  },
  {
   "cell_type": "code",
   "execution_count": 8,
   "metadata": {
    "collapsed": false
   },
   "outputs": [],
   "source": [
    "tags_base = 'votes-analysis-p2-2015-01-19_files/'\n",
    "tags_2015 = pd.read_csv(tags_base+'2015_dem_council_names.csv',sep=',')\n",
    "tags_2015 = tags_2015[tags_2015.Party=='Dem'] #this tag file has extra info\n",
    "tags_2011 = pd.read_csv(tags_base+'2011_dem_council_names.csv',sep=',')\n",
    "tags_2007 = pd.read_csv(tags_base+'2007_dem_council_names.csv',sep=',')\n",
    "dcc_finance_2015 = finance_2015[finance_2015.FilerName.isin(tags_2015.Filers.values)&(finance_2015.Cycle==3)]\n",
    "dcc_finance_2011 = finance_2011[finance_2011.FilerName.isin(tags_2011.Filers.values)&(finance_2011.Cycle==3)]\n",
    "dcc_finance_2007 = finance_2007[finance_2007.FilerName.isin(tags_2007.Filers.values)&(finance_2007.Cycle==3)]"
   ]
  },
  {
   "cell_type": "markdown",
   "metadata": {},
   "source": [
    "The cell above selects out only the cycle 3 data for those candidates/tags. The below cell selects only the expenditures."
   ]
  },
  {
   "cell_type": "code",
   "execution_count": 9,
   "metadata": {
    "collapsed": false
   },
   "outputs": [],
   "source": [
    "expenditures2015 = dcc_finance_2015[dcc_finance_2015.DocType.str.contains('Expenditures',na=False)]\n",
    "expenditures2011 = dcc_finance_2011[dcc_finance_2011.DocType.str.contains('Expenditures',na=False)]\n",
    "expenditures2007 = dcc_finance_2007[dcc_finance_2007.DocType.str.contains('Expenditures',na=False)]\n"
   ]
  },
  {
   "cell_type": "code",
   "execution_count": 10,
   "metadata": {
    "collapsed": false
   },
   "outputs": [
    {
     "name": "stdout",
     "output_type": "stream",
     "text": [
      "Total spending by Dem city council candidates cycle 3 2007: 862083.07\n",
      "Total spending by Dem city council candidates cycle 3 2011: 979575.49\n",
      "Total spending by Dem city council candidates cycle 3 2015: 2675434.78\n"
     ]
    }
   ],
   "source": [
    "print 'Total spending by Dem city council candidates cycle 3 2007: ' + \\\n",
    "        str(expenditures2007.Amount.sum())\n",
    "print 'Total spending by Dem city council candidates cycle 3 2011: ' + \\\n",
    "        str(expenditures2011.Amount.sum())\n",
    "print 'Total spending by Dem city council candidates cycle 3 2015: ' + \\\n",
    "        str(expenditures2015.Amount.sum())"
   ]
  },
  {
   "cell_type": "markdown",
   "metadata": {},
   "source": [
    "Interestingly, more money was spent in the 2011 election than the 2007 election though fewer votes were cast.\n",
    "\n",
    "Below I create expenditure dataframes for each year with a new column that contains the name for that filer based on the corresponding name from the ballot."
   ]
  },
  {
   "cell_type": "code",
   "execution_count": 11,
   "metadata": {
    "collapsed": false
   },
   "outputs": [],
   "source": [
    "def add_vote_name(x,tags):\n",
    "    x['VotesName']=tags[0][tags[0].Filers.str.contains(x['FilerName'].values[0],na=False)].VotesName.values[0]\n",
    "    return x\n",
    "expenditures2015_vname = expenditures2015.groupby('FilerName').apply(add_vote_name, (tags_2015,))\n",
    "expenditures2011_vname = expenditures2011.groupby('FilerName').apply(add_vote_name, (tags_2011,))\n",
    "expenditures2007_vname = expenditures2007.groupby('FilerName').apply(add_vote_name, (tags_2007,))"
   ]
  },
  {
   "cell_type": "code",
   "execution_count": 12,
   "metadata": {
    "collapsed": false
   },
   "outputs": [],
   "source": [
    "dtsums_2015 = pd.DataFrame(expenditures2015_vname.groupby(['VotesName','DocType'])['Amount'].sum())\n",
    "dtsums_2015['YEAR'] = 2015\n",
    "dtsums_2011 = pd.DataFrame(expenditures2011_vname.groupby(['VotesName','DocType'])['Amount'].sum())\n",
    "dtsums_2011['YEAR'] = 2011\n",
    "dtsums_2007 = pd.DataFrame(expenditures2007_vname.groupby(['VotesName','DocType'])['Amount'].sum())\n",
    "dtsums_2007['YEAR'] = 2007"
   ]
  },
  {
   "cell_type": "markdown",
   "metadata": {},
   "source": [
    "The next cell is the big step of combining voter data and expenditure data. To the dataframe with voter percentages (`cgroup_sum`), I add the expenditure data. This is probably not the technically cleanest way to do this using Pandas."
   ]
  },
  {
   "cell_type": "code",
   "execution_count": 13,
   "metadata": {
    "collapsed": false
   },
   "outputs": [],
   "source": [
    "dtsums = pd.concat((dtsums_2015,dtsums_2011,dtsums_2007))\n",
    "newdtsum = dtsums.reset_index()\n",
    "exlist_year = cgroup_sum.reset_index()\n",
    "for year in years:\n",
    "    for name in list(newdtsum[newdtsum.YEAR==year].VotesName):\n",
    "        #if name in dtsums[:,'CFR - Schedule III - Statement of Expenditures']:\n",
    "        exlist_year.loc[(cgroup_sum.reset_index().YEAR==year)&(cgroup_sum.reset_index().NAME==name),'Expense']=list(newdtsum.loc[(newdtsum.YEAR==year)&(newdtsum.VotesName==name)].Amount)[0]"
   ]
  },
  {
   "cell_type": "code",
   "execution_count": 14,
   "metadata": {
    "collapsed": false
   },
   "outputs": [
    {
     "data": {
      "text/html": [
       "<div>\n",
       "<table border=\"1\" class=\"dataframe\">\n",
       "  <thead>\n",
       "    <tr style=\"text-align: right;\">\n",
       "      <th></th>\n",
       "      <th>YEAR</th>\n",
       "      <th>NAME</th>\n",
       "      <th>VOTES</th>\n",
       "      <th>VOTES_PCTS</th>\n",
       "      <th>Expense</th>\n",
       "    </tr>\n",
       "  </thead>\n",
       "  <tbody>\n",
       "    <tr>\n",
       "      <th>0</th>\n",
       "      <td>2007</td>\n",
       "      <td>ANDREW   TOY</td>\n",
       "      <td>41654</td>\n",
       "      <td>0.058691</td>\n",
       "      <td>NaN</td>\n",
       "    </tr>\n",
       "    <tr>\n",
       "      <th>1</th>\n",
       "      <td>2007</td>\n",
       "      <td>BENJAMIN   RAMOS</td>\n",
       "      <td>47343</td>\n",
       "      <td>0.066707</td>\n",
       "      <td>NaN</td>\n",
       "    </tr>\n",
       "    <tr>\n",
       "      <th>2</th>\n",
       "      <td>2007</td>\n",
       "      <td>BILL   GREEN</td>\n",
       "      <td>62252</td>\n",
       "      <td>0.087713</td>\n",
       "      <td>310426.25</td>\n",
       "    </tr>\n",
       "    <tr>\n",
       "      <th>3</th>\n",
       "      <td>2007</td>\n",
       "      <td>BLONDELL   REYNOLDS BROWN</td>\n",
       "      <td>51846</td>\n",
       "      <td>0.073051</td>\n",
       "      <td>46252.27</td>\n",
       "    </tr>\n",
       "    <tr>\n",
       "      <th>4</th>\n",
       "      <td>2007</td>\n",
       "      <td>CARYN   HUNT</td>\n",
       "      <td>18723</td>\n",
       "      <td>0.026381</td>\n",
       "      <td>2424.00</td>\n",
       "    </tr>\n",
       "    <tr>\n",
       "      <th>5</th>\n",
       "      <td>2007</td>\n",
       "      <td>DEREK S GREEN</td>\n",
       "      <td>30745</td>\n",
       "      <td>0.043320</td>\n",
       "      <td>1633.88</td>\n",
       "    </tr>\n",
       "    <tr>\n",
       "      <th>6</th>\n",
       "      <td>2007</td>\n",
       "      <td>HARRY   MASSELE</td>\n",
       "      <td>17102</td>\n",
       "      <td>0.024097</td>\n",
       "      <td>5548.00</td>\n",
       "    </tr>\n",
       "    <tr>\n",
       "      <th>7</th>\n",
       "      <td>2007</td>\n",
       "      <td>JAMES F KENNEY</td>\n",
       "      <td>95389</td>\n",
       "      <td>0.134404</td>\n",
       "      <td>60373.91</td>\n",
       "    </tr>\n",
       "    <tr>\n",
       "      <th>8</th>\n",
       "      <td>2007</td>\n",
       "      <td>JUAN F RAMOS</td>\n",
       "      <td>44205</td>\n",
       "      <td>0.062285</td>\n",
       "      <td>112865.97</td>\n",
       "    </tr>\n",
       "    <tr>\n",
       "      <th>9</th>\n",
       "      <td>2007</td>\n",
       "      <td>MACEO   CUMMINGS</td>\n",
       "      <td>9577</td>\n",
       "      <td>0.013494</td>\n",
       "      <td>NaN</td>\n",
       "    </tr>\n",
       "    <tr>\n",
       "      <th>10</th>\n",
       "      <td>2007</td>\n",
       "      <td>MARC   STIER</td>\n",
       "      <td>25078</td>\n",
       "      <td>0.035335</td>\n",
       "      <td>NaN</td>\n",
       "    </tr>\n",
       "    <tr>\n",
       "      <th>11</th>\n",
       "      <td>2007</td>\n",
       "      <td>MATT   RUBEN</td>\n",
       "      <td>19946</td>\n",
       "      <td>0.028104</td>\n",
       "      <td>32565.07</td>\n",
       "    </tr>\n",
       "    <tr>\n",
       "      <th>12</th>\n",
       "      <td>2007</td>\n",
       "      <td>MICHAEL K ELLIS</td>\n",
       "      <td>15254</td>\n",
       "      <td>0.021493</td>\n",
       "      <td>NaN</td>\n",
       "    </tr>\n",
       "    <tr>\n",
       "      <th>13</th>\n",
       "      <td>2007</td>\n",
       "      <td>RODNEY   LITTLE</td>\n",
       "      <td>9029</td>\n",
       "      <td>0.012722</td>\n",
       "      <td>3775.61</td>\n",
       "    </tr>\n",
       "    <tr>\n",
       "      <th>14</th>\n",
       "      <td>2007</td>\n",
       "      <td>SHARIF T STREET</td>\n",
       "      <td>47879</td>\n",
       "      <td>0.067462</td>\n",
       "      <td>78654.59</td>\n",
       "    </tr>\n",
       "    <tr>\n",
       "      <th>15</th>\n",
       "      <td>2007</td>\n",
       "      <td>T MILTON   STREET SR</td>\n",
       "      <td>10468</td>\n",
       "      <td>0.014749</td>\n",
       "      <td>NaN</td>\n",
       "    </tr>\n",
       "    <tr>\n",
       "      <th>16</th>\n",
       "      <td>2007</td>\n",
       "      <td>W WILSON   GOODE JR</td>\n",
       "      <td>79798</td>\n",
       "      <td>0.112436</td>\n",
       "      <td>49092.96</td>\n",
       "    </tr>\n",
       "    <tr>\n",
       "      <th>17</th>\n",
       "      <td>2007</td>\n",
       "      <td>WILLIAM K GREENLEE</td>\n",
       "      <td>63563</td>\n",
       "      <td>0.089561</td>\n",
       "      <td>141561.00</td>\n",
       "    </tr>\n",
       "    <tr>\n",
       "      <th>18</th>\n",
       "      <td>2007</td>\n",
       "      <td>WILSON   ALEXANDER</td>\n",
       "      <td>19807</td>\n",
       "      <td>0.027908</td>\n",
       "      <td>NaN</td>\n",
       "    </tr>\n",
       "    <tr>\n",
       "      <th>19</th>\n",
       "      <td>2007</td>\n",
       "      <td>Write In</td>\n",
       "      <td>62</td>\n",
       "      <td>0.000087</td>\n",
       "      <td>NaN</td>\n",
       "    </tr>\n",
       "    <tr>\n",
       "      <th>20</th>\n",
       "      <td>2011</td>\n",
       "      <td>ANDREW   TOY</td>\n",
       "      <td>39467</td>\n",
       "      <td>0.082739</td>\n",
       "      <td>194439.13</td>\n",
       "    </tr>\n",
       "    <tr>\n",
       "      <th>21</th>\n",
       "      <td>2011</td>\n",
       "      <td>BILL   GREEN</td>\n",
       "      <td>65034</td>\n",
       "      <td>0.136337</td>\n",
       "      <td>270335.06</td>\n",
       "    </tr>\n",
       "    <tr>\n",
       "      <th>22</th>\n",
       "      <td>2011</td>\n",
       "      <td>BLONDELL   REYNOLDS BROWN</td>\n",
       "      <td>66334</td>\n",
       "      <td>0.139063</td>\n",
       "      <td>117218.36</td>\n",
       "    </tr>\n",
       "    <tr>\n",
       "      <th>23</th>\n",
       "      <td>2011</td>\n",
       "      <td>EDWARD J NESMITH</td>\n",
       "      <td>16674</td>\n",
       "      <td>0.034955</td>\n",
       "      <td>100000.00</td>\n",
       "    </tr>\n",
       "    <tr>\n",
       "      <th>24</th>\n",
       "      <td>2011</td>\n",
       "      <td>HUMBERTO   PEREZ</td>\n",
       "      <td>11211</td>\n",
       "      <td>0.023503</td>\n",
       "      <td>NaN</td>\n",
       "    </tr>\n",
       "    <tr>\n",
       "      <th>25</th>\n",
       "      <td>2011</td>\n",
       "      <td>ISAIAH   THOMAS</td>\n",
       "      <td>31515</td>\n",
       "      <td>0.066068</td>\n",
       "      <td>NaN</td>\n",
       "    </tr>\n",
       "    <tr>\n",
       "      <th>26</th>\n",
       "      <td>2011</td>\n",
       "      <td>JAMES F KENNEY</td>\n",
       "      <td>46282</td>\n",
       "      <td>0.097026</td>\n",
       "      <td>145385.94</td>\n",
       "    </tr>\n",
       "    <tr>\n",
       "      <th>27</th>\n",
       "      <td>2011</td>\n",
       "      <td>JANIS E MANSON</td>\n",
       "      <td>8100</td>\n",
       "      <td>0.016981</td>\n",
       "      <td>NaN</td>\n",
       "    </tr>\n",
       "    <tr>\n",
       "      <th>28</th>\n",
       "      <td>2011</td>\n",
       "      <td>LAWRENCE P CLARK</td>\n",
       "      <td>11671</td>\n",
       "      <td>0.024467</td>\n",
       "      <td>NaN</td>\n",
       "    </tr>\n",
       "    <tr>\n",
       "      <th>29</th>\n",
       "      <td>2011</td>\n",
       "      <td>MICHAEL   JONES</td>\n",
       "      <td>23234</td>\n",
       "      <td>0.048708</td>\n",
       "      <td>NaN</td>\n",
       "    </tr>\n",
       "    <tr>\n",
       "      <th>30</th>\n",
       "      <td>2011</td>\n",
       "      <td>RALPH P BLAKNEY</td>\n",
       "      <td>10482</td>\n",
       "      <td>0.021974</td>\n",
       "      <td>4761.50</td>\n",
       "    </tr>\n",
       "    <tr>\n",
       "      <th>31</th>\n",
       "      <td>2011</td>\n",
       "      <td>SHERRIE   COHEN</td>\n",
       "      <td>44528</td>\n",
       "      <td>0.093349</td>\n",
       "      <td>96252.33</td>\n",
       "    </tr>\n",
       "    <tr>\n",
       "      <th>32</th>\n",
       "      <td>2011</td>\n",
       "      <td>W WILSON   GOODE JR</td>\n",
       "      <td>47225</td>\n",
       "      <td>0.099003</td>\n",
       "      <td>NaN</td>\n",
       "    </tr>\n",
       "    <tr>\n",
       "      <th>33</th>\n",
       "      <td>2011</td>\n",
       "      <td>WILLIAM K GREENLEE</td>\n",
       "      <td>55175</td>\n",
       "      <td>0.115669</td>\n",
       "      <td>50009.69</td>\n",
       "    </tr>\n",
       "    <tr>\n",
       "      <th>34</th>\n",
       "      <td>2011</td>\n",
       "      <td>Write In</td>\n",
       "      <td>76</td>\n",
       "      <td>0.000159</td>\n",
       "      <td>NaN</td>\n",
       "    </tr>\n",
       "    <tr>\n",
       "      <th>35</th>\n",
       "      <td>2015</td>\n",
       "      <td>ALLAN DOMB</td>\n",
       "      <td>57691</td>\n",
       "      <td>0.089577</td>\n",
       "      <td>1546447.86</td>\n",
       "    </tr>\n",
       "    <tr>\n",
       "      <th>36</th>\n",
       "      <td>2015</td>\n",
       "      <td>BLONDELL REYNOLDS BROWN</td>\n",
       "      <td>62922</td>\n",
       "      <td>0.097699</td>\n",
       "      <td>7500.20</td>\n",
       "    </tr>\n",
       "    <tr>\n",
       "      <th>37</th>\n",
       "      <td>2015</td>\n",
       "      <td>CARLA M CAIN</td>\n",
       "      <td>17115</td>\n",
       "      <td>0.026575</td>\n",
       "      <td>280.00</td>\n",
       "    </tr>\n",
       "    <tr>\n",
       "      <th>38</th>\n",
       "      <td>2015</td>\n",
       "      <td>DEREK S GREEN</td>\n",
       "      <td>68505</td>\n",
       "      <td>0.106368</td>\n",
       "      <td>92689.04</td>\n",
       "    </tr>\n",
       "    <tr>\n",
       "      <th>39</th>\n",
       "      <td>2015</td>\n",
       "      <td>ED NEILSON</td>\n",
       "      <td>40786</td>\n",
       "      <td>0.063329</td>\n",
       "      <td>60258.56</td>\n",
       "    </tr>\n",
       "    <tr>\n",
       "      <th>40</th>\n",
       "      <td>2015</td>\n",
       "      <td>FRANK RIZZO</td>\n",
       "      <td>26260</td>\n",
       "      <td>0.040774</td>\n",
       "      <td>12121.19</td>\n",
       "    </tr>\n",
       "    <tr>\n",
       "      <th>41</th>\n",
       "      <td>2015</td>\n",
       "      <td>HELEN GYM</td>\n",
       "      <td>49270</td>\n",
       "      <td>0.076502</td>\n",
       "      <td>225899.67</td>\n",
       "    </tr>\n",
       "    <tr>\n",
       "      <th>42</th>\n",
       "      <td>2015</td>\n",
       "      <td>ISAIAH THOMAS</td>\n",
       "      <td>48000</td>\n",
       "      <td>0.074530</td>\n",
       "      <td>107939.81</td>\n",
       "    </tr>\n",
       "    <tr>\n",
       "      <th>43</th>\n",
       "      <td>2015</td>\n",
       "      <td>JENNE AYERS</td>\n",
       "      <td>32637</td>\n",
       "      <td>0.050676</td>\n",
       "      <td>7979.35</td>\n",
       "    </tr>\n",
       "    <tr>\n",
       "      <th>44</th>\n",
       "      <td>2015</td>\n",
       "      <td>MARNIE AUMENT LOUGHREY</td>\n",
       "      <td>10890</td>\n",
       "      <td>0.016909</td>\n",
       "      <td>NaN</td>\n",
       "    </tr>\n",
       "    <tr>\n",
       "      <th>45</th>\n",
       "      <td>2015</td>\n",
       "      <td>PAUL STEINKE</td>\n",
       "      <td>37104</td>\n",
       "      <td>0.057612</td>\n",
       "      <td>147315.94</td>\n",
       "    </tr>\n",
       "    <tr>\n",
       "      <th>46</th>\n",
       "      <td>2015</td>\n",
       "      <td>SHERRIE COHEN</td>\n",
       "      <td>45847</td>\n",
       "      <td>0.071187</td>\n",
       "      <td>194089.34</td>\n",
       "    </tr>\n",
       "    <tr>\n",
       "      <th>47</th>\n",
       "      <td>2015</td>\n",
       "      <td>THOMAS WYATT</td>\n",
       "      <td>30310</td>\n",
       "      <td>0.047062</td>\n",
       "      <td>195789.44</td>\n",
       "    </tr>\n",
       "    <tr>\n",
       "      <th>48</th>\n",
       "      <td>2015</td>\n",
       "      <td>W WILSON GOODE JR</td>\n",
       "      <td>46555</td>\n",
       "      <td>0.072286</td>\n",
       "      <td>NaN</td>\n",
       "    </tr>\n",
       "    <tr>\n",
       "      <th>49</th>\n",
       "      <td>2015</td>\n",
       "      <td>WILLIAM K GREENLEE</td>\n",
       "      <td>50849</td>\n",
       "      <td>0.078953</td>\n",
       "      <td>76591.44</td>\n",
       "    </tr>\n",
       "    <tr>\n",
       "      <th>50</th>\n",
       "      <td>2015</td>\n",
       "      <td>WILSON ALEXANDER</td>\n",
       "      <td>19210</td>\n",
       "      <td>0.029827</td>\n",
       "      <td>532.94</td>\n",
       "    </tr>\n",
       "    <tr>\n",
       "      <th>51</th>\n",
       "      <td>2015</td>\n",
       "      <td>Write In</td>\n",
       "      <td>87</td>\n",
       "      <td>0.000135</td>\n",
       "      <td>NaN</td>\n",
       "    </tr>\n",
       "  </tbody>\n",
       "</table>\n",
       "</div>"
      ],
      "text/plain": [
       "    YEAR                       NAME  VOTES  VOTES_PCTS     Expense\n",
       "0   2007               ANDREW   TOY  41654    0.058691         NaN\n",
       "1   2007           BENJAMIN   RAMOS  47343    0.066707         NaN\n",
       "2   2007               BILL   GREEN  62252    0.087713   310426.25\n",
       "3   2007  BLONDELL   REYNOLDS BROWN  51846    0.073051    46252.27\n",
       "4   2007               CARYN   HUNT  18723    0.026381     2424.00\n",
       "5   2007              DEREK S GREEN  30745    0.043320     1633.88\n",
       "6   2007            HARRY   MASSELE  17102    0.024097     5548.00\n",
       "7   2007             JAMES F KENNEY  95389    0.134404    60373.91\n",
       "8   2007               JUAN F RAMOS  44205    0.062285   112865.97\n",
       "9   2007           MACEO   CUMMINGS   9577    0.013494         NaN\n",
       "10  2007               MARC   STIER  25078    0.035335         NaN\n",
       "11  2007               MATT   RUBEN  19946    0.028104    32565.07\n",
       "12  2007            MICHAEL K ELLIS  15254    0.021493         NaN\n",
       "13  2007            RODNEY   LITTLE   9029    0.012722     3775.61\n",
       "14  2007            SHARIF T STREET  47879    0.067462    78654.59\n",
       "15  2007       T MILTON   STREET SR  10468    0.014749         NaN\n",
       "16  2007        W WILSON   GOODE JR  79798    0.112436    49092.96\n",
       "17  2007         WILLIAM K GREENLEE  63563    0.089561   141561.00\n",
       "18  2007         WILSON   ALEXANDER  19807    0.027908         NaN\n",
       "19  2007                   Write In     62    0.000087         NaN\n",
       "20  2011               ANDREW   TOY  39467    0.082739   194439.13\n",
       "21  2011               BILL   GREEN  65034    0.136337   270335.06\n",
       "22  2011  BLONDELL   REYNOLDS BROWN  66334    0.139063   117218.36\n",
       "23  2011           EDWARD J NESMITH  16674    0.034955   100000.00\n",
       "24  2011           HUMBERTO   PEREZ  11211    0.023503         NaN\n",
       "25  2011            ISAIAH   THOMAS  31515    0.066068         NaN\n",
       "26  2011             JAMES F KENNEY  46282    0.097026   145385.94\n",
       "27  2011             JANIS E MANSON   8100    0.016981         NaN\n",
       "28  2011           LAWRENCE P CLARK  11671    0.024467         NaN\n",
       "29  2011            MICHAEL   JONES  23234    0.048708         NaN\n",
       "30  2011            RALPH P BLAKNEY  10482    0.021974     4761.50\n",
       "31  2011            SHERRIE   COHEN  44528    0.093349    96252.33\n",
       "32  2011        W WILSON   GOODE JR  47225    0.099003         NaN\n",
       "33  2011         WILLIAM K GREENLEE  55175    0.115669    50009.69\n",
       "34  2011                   Write In     76    0.000159         NaN\n",
       "35  2015                 ALLAN DOMB  57691    0.089577  1546447.86\n",
       "36  2015    BLONDELL REYNOLDS BROWN  62922    0.097699     7500.20\n",
       "37  2015               CARLA M CAIN  17115    0.026575      280.00\n",
       "38  2015              DEREK S GREEN  68505    0.106368    92689.04\n",
       "39  2015                 ED NEILSON  40786    0.063329    60258.56\n",
       "40  2015                FRANK RIZZO  26260    0.040774    12121.19\n",
       "41  2015                  HELEN GYM  49270    0.076502   225899.67\n",
       "42  2015              ISAIAH THOMAS  48000    0.074530   107939.81\n",
       "43  2015                JENNE AYERS  32637    0.050676     7979.35\n",
       "44  2015     MARNIE AUMENT LOUGHREY  10890    0.016909         NaN\n",
       "45  2015               PAUL STEINKE  37104    0.057612   147315.94\n",
       "46  2015              SHERRIE COHEN  45847    0.071187   194089.34\n",
       "47  2015               THOMAS WYATT  30310    0.047062   195789.44\n",
       "48  2015          W WILSON GOODE JR  46555    0.072286         NaN\n",
       "49  2015         WILLIAM K GREENLEE  50849    0.078953    76591.44\n",
       "50  2015           WILSON ALEXANDER  19210    0.029827      532.94\n",
       "51  2015                  Write In      87    0.000135         NaN"
      ]
     },
     "execution_count": 14,
     "metadata": {},
     "output_type": "execute_result"
    }
   ],
   "source": [
    "exlist_year"
   ]
  },
  {
   "cell_type": "markdown",
   "metadata": {},
   "source": [
    "From this it appears many candidates either did not file their campaign finances for the 3rd cycle or they did not report any expenses during that cycle. I will address that at the end of this post again, but for now those entries will get dropped."
   ]
  },
  {
   "cell_type": "code",
   "execution_count": 17,
   "metadata": {
    "collapsed": false
   },
   "outputs": [
    {
     "data": {
      "image/png": "[encoded data removed]",
      "text/plain": [
       "<matplotlib.figure.Figure at 0x1169338d0>"
      ]
     },
     "metadata": {},
     "output_type": "display_data"
    }
   ],
   "source": [
    "import matplotlib.pyplot as plt\n",
    "%matplotlib inline\n",
    "\n",
    "plt.figure(figsize=(8,6))\n",
    "for year,color in zip(years,['b','g','r']):\n",
    "    plt.scatter(np.log10(exlist_year[exlist_year.YEAR==year].Expense),exlist_year[exlist_year.YEAR==year].VOTES_PCTS,s=80,c=color,label=str(year))\n",
    "plt.ylim(0,0.16)\n",
    "plt.legend(loc=2,scatterpoints=1,fontsize=16)\n",
    "plt.title('Total Candidate Spending vs. Vote %',size=20)\n",
    "plt.xlabel('Log Candidate Spending (\\$)',size=20)\n",
    "plt.ylabel('Candidate Vote Percentage',size=20)\n",
    "plt.tick_params(axis='x', pad=8)\n",
    "plt.tick_params(axis='both', which='major', labelsize=16)"
   ]
  },
  {
   "cell_type": "markdown",
   "metadata": {},
   "source": [
    "There's a trend already, however to really compare data across years we can standardize the data within each year to get z scores."
   ]
  },
  {
   "cell_type": "code",
   "execution_count": 18,
   "metadata": {
    "collapsed": false
   },
   "outputs": [
    {
     "data": {
      "image/png": "[encoded data removed]",
      "text/plain": [
       "<matplotlib.figure.Figure at 0x115ea5e10>"
      ]
     },
     "metadata": {},
     "output_type": "display_data"
    }
   ],
   "source": [
    "from sklearn import preprocessing\n",
    "plt.figure(figsize=(8,6))\n",
    "for year,color in zip(years,['b','g','r']):\n",
    "    x = preprocessing.scale(np.log10(exlist_year[(exlist_year.YEAR==year)&np.isfinite(exlist_year.Expense)].Expense))\n",
    "    plt.scatter(x,exlist_year[(exlist_year.YEAR==year)&np.isfinite(exlist_year.Expense)].VOTES_PCTS,c=color,label=str(year),s=60)\n",
    "plt.ylim(0,0.16)\n",
    "plt.legend(loc=2,scatterpoints=1,fontsize=16)\n",
    "plt.title('Total Candidate Spending vs. Vote %',size=20)\n",
    "plt.xlabel('Standardized Log Candidate Spending (\\$)',size=20)\n",
    "plt.ylabel('Candidate Vote Percentage',size=20)\n",
    "plt.tick_params(axis='x', pad=8)\n",
    "plt.tick_params(axis='both', which='major', labelsize=16)"
   ]
  },
  {
   "cell_type": "code",
   "execution_count": 23,
   "metadata": {
    "collapsed": false
   },
   "outputs": [
    {
     "name": "stdout",
     "output_type": "stream",
     "text": [
      "        |  scaled fit [m, b]     |   raw fit [m, b]:\n",
      "2007    [ 0.02491769  0.06346129][ 0.03445275 -0.08916387]\n",
      "2011    [ 0.02566051  0.09013895][ 0.05030968 -0.1570854 ]\n",
      "2015    [ 0.01458749  0.06504785][ 0.0144761 -0.0011184]\n"
     ]
    }
   ],
   "source": [
    "print '        |  scaled fit [m, b]     |   raw fit [m, b]:'\n",
    "for year in years:\n",
    "    x = preprocessing.scale(np.log10(exlist_year[(exlist_year.YEAR==year)&np.isfinite(exlist_year.Expense)].Expense))\n",
    "    x2 = np.log10(exlist_year[(exlist_year.YEAR==year)&np.isfinite(exlist_year.Expense)].Expense)\n",
    "    print str(year)+ '    ' + \\\n",
    "        str(np.polyfit(x,exlist_year[(exlist_year.YEAR==year)&np.isfinite(exlist_year.Expense)].VOTES_PCTS,1)) + \\\n",
    "        str(np.polyfit(x2,exlist_year[(exlist_year.YEAR==year)&np.isfinite(exlist_year.Expense)].VOTES_PCTS,1))"
   ]
  },
  {
   "cell_type": "markdown",
   "metadata": {
    "collapsed": true
   },
   "source": [
    "Scaling the data brings the fits more into line with eachother across years. Interestingly, the returns to spending seem to be lowest this past year when overall spending grew by so much. Furthermore, a more complete model would encapsulate the fact that the sum of all candidate votes fraction must be 1.\n",
    "\n",
    "Finally, as mentioned before. Many candidates seem to not have listed any expenditures or even filed for the cycle. If we include their voter returns on the plots above by putting their percentages on the left y axis, then the model is clearly broken."
   ]
  },
  {
   "cell_type": "code",
   "execution_count": 31,
   "metadata": {
    "collapsed": false
   },
   "outputs": [
    {
     "data": {
      "image/png": "[encoded data removed]",
      "text/plain": [
       "<matplotlib.figure.Figure at 0x121293310>"
      ]
     },
     "metadata": {},
     "output_type": "display_data"
    }
   ],
   "source": [
    "plt.figure(figsize=(8,6))\n",
    "for year,color in zip(years,['b','g','r']):\n",
    "    x = preprocessing.scale(np.log10(exlist_year[(exlist_year.YEAR==year)&np.isfinite(exlist_year.Expense)].Expense))\n",
    "    plt.scatter(x,exlist_year[(exlist_year.YEAR==year)&np.isfinite(exlist_year.Expense)].VOTES_PCTS,c=color,label=str(year),s=60)\n",
    "    plt.scatter(-3*np.ones(exlist_year[(exlist_year.YEAR==year)&np.isnan(exlist_year.Expense)].shape[0]),\n",
    "                exlist_year[(exlist_year.YEAR==year)&np.isnan(exlist_year.Expense)].VOTES_PCTS,\n",
    "                marker='s',c=color,label='NoExp '+str(year),s=60,clip_on=False)\n",
    "plt.ylim(0,0.16)\n",
    "plt.xlim(-3,2)\n",
    "plt.legend(loc=2,scatterpoints=1,fontsize=16)\n",
    "plt.title('Total Candidate Spending vs. Vote %',size=20)\n",
    "plt.xlabel('Standardized Log Candidate Spending (\\$)',size=20)\n",
    "plt.ylabel('Candidate Vote Percentage',size=20)\n",
    "plt.tick_params(axis='x', pad=8)\n",
    "plt.tick_params(axis='both', which='major', labelsize=16)"
   ]
  },
  {
   "cell_type": "code",
   "execution_count": null,
   "metadata": {
    "collapsed": true
   },
   "outputs": [],
   "source": []
  }
 ],
 "metadata": {
  "kernelspec": {
   "display_name": "Python 2",
   "language": "python",
   "name": "python2"
  },
  "language_info": {
   "codemirror_mode": {
    "name": "ipython",
    "version": 2
   },
   "file_extension": ".py",
   "mimetype": "text/x-python",
   "name": "python",
   "nbconvert_exporter": "python",
   "pygments_lexer": "ipython2",
   "version": "2.7.10"
  }
 },
 "nbformat": 4,
 "nbformat_minor": 0
}
