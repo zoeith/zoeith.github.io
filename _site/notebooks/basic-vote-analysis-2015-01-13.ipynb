{
 "cells": [
  {
   "cell_type": "markdown",
   "metadata": {},
   "source": [
    "---\n",
    "layout: post\n",
    "date: 2016-01-18\n",
    "title: Votes and Spending&#58;</br>\n",
    "    The 2015 Philadelphia Democratic Primary City Council Race\n",
    "---\n",
    "\n",
    "{% newthought 'This analysis combines two data sources:' %} campaign finance data and election results from the city commissioner. The finance data does not contain perfect infromation. The current filing system does not appear to check for consistency in spelling across filings, nor does it require all relevant data fields to be completed. Furthermore, there is no standard for keywords for certain types of expenses. For instance, expenses listed as \"donations\" to Ward committees may actually be in exchange for \"get out the vote\" work by the committees. These and other shortcomings in the filing system limit the scope of this analysis at present considerably. However, I find a nearly logarithmic relation between expenditures in the filing cycle leading up to the election and the percentage of votes won. {% marginnote 'logistic-growth' 'Since there is an upper bound of 1 on the voter percentage, it is probably more accurate to call this logistic growth.' %}\n",
    "<!--more-->\n",
    "\n",
    "## Loading the data.\n",
    "Here we download data directly from the sources."
   ]
  },
  {
   "cell_type": "code",
   "execution_count": 1,
   "metadata": {
    "collapsed": false
   },
   "outputs": [],
   "source": [
    "\n",
    "import pandas as pd\n",
    "import numpy as np\n",
    "import urllib2\n",
    "\n",
    "csv_dtype = {'EntityZip' : str,\n",
    "             'EmployerZip': str}\n",
    "\n",
    "data_url = 'ftp://ftp.phila-records.com/Year-to-Date%20Transaction%20Files/2015%20YTD/Explorer.Transactions.2015.YTD.txt'\n",
    "data_stream = urllib2.urlopen(data_url)\n",
    "#Year to date (YTD)\n",
    "ytddata = pd.read_csv(data_stream,sep='\\t',quotechar='\"',\n",
    "                      error_bad_lines=False, dtype=csv_dtype)\n",
    "\n",
    "vote_url = 'http://www.philadelphiavotes.com/files/raw-data/2015_primary.csv'\n",
    "vote_stream = urllib2.urlopen(vote_url)\n",
    "primary_2015 = pd.read_csv(vote_stream,sep=',')\n"
   ]
  },
  {
   "cell_type": "markdown",
   "metadata": {},
   "source": [
    "## Filtering data\n",
    "Here we focus on cycle 3 to isolate the spending that occured up to the day of the primary. This includes most (though not all) of the get out the vote expenditures. {% sidenote 'filing-cycles' 'See filing date [information](http://www.phila.gov/records/pdfs/CFFILINGDATES.pdf).' %}"
   ]
  },
  {
   "cell_type": "code",
   "execution_count": 2,
   "metadata": {
    "collapsed": false
   },
   "outputs": [
    {
     "name": "stdout",
     "output_type": "stream",
     "text": [
      "Total number of entries in YTD campaing filings: 210472\n",
      "Number of lines in cycle 3 filing: 25537\n"
     ]
    }
   ],
   "source": [
    "\n",
    "cycle3_data = ytddata[ytddata.Cycle==3]\n",
    "print \"Total number of entries in YTD campaing filings: \" + str(len(ytddata))\n",
    "print \"Number of lines in cycle 3 filing: \" + str(len(cycle3_data))"
   ]
  },
  {
   "cell_type": "markdown",
   "metadata": {},
   "source": [
    "I am limiting the scope of this analysis to only the Primary for Democratic seats on City Council. I am relying on a hand built table that connects the names of candidates as they appear in the city commissioners' data with how they appear in entries on campaign finance reports. {% sidenote 'Phily3-thanks' 'This table was assembled by the kind people at [Philly 3.0](https://www.philadelphia3-0.org/) after selecting a unique entry list of FilerNames from the finance data.' %} Note, candidates may have a committee filing name and a personal filing name. I combine personal and committee spending into a single entity, but this may also require removing contributions to a committee so they do not get double counted when summing expenditures."
   ]
  },
  {
   "cell_type": "code",
   "execution_count": 4,
   "metadata": {
    "collapsed": false
   },
   "outputs": [
    {
     "name": "stdout",
     "output_type": "stream",
     "text": [
      "['idx' 'Filers' 'Party' 'Office Sought' 'District' 'VotesName']\n"
     ]
    }
   ],
   "source": [
    "\n",
    "tags_url = 'psi-6-2015-01-11_files/'\n",
    "tags_data = pd.read_csv(tags_url+'atlcouncilfilers.csv',sep=',')\n",
    "print tags_data.columns.values"
   ]
  },
  {
   "cell_type": "markdown",
   "metadata": {},
   "source": [
    "The 'Filers' column contains the names on the finance data. 'VotesName' column contains the candidates name as found in commissioners voting data."
   ]
  },
  {
   "cell_type": "code",
   "execution_count": 5,
   "metadata": {
    "collapsed": false
   },
   "outputs": [
    {
     "name": "stdout",
     "output_type": "stream",
     "text": [
      "Number of lines in cycle 3 filing for        Democrats running for city council at large: 2236\n"
     ]
    }
   ],
   "source": [
    "dem_tags = tags_data[tags_data.Party=='Dem']\n",
    "at_large_dem_cc_cycle3 = cycle3_data[cycle3_data.FilerName.isin(dem_tags.Filers.values)]\n",
    "print \"Number of lines in cycle 3 filing for\\\n",
    " Democrats running for city council at large: \" + str(len(at_large_dem_cc_cycle3))"
   ]
  },
  {
   "cell_type": "markdown",
   "metadata": {},
   "source": [
    "So only a small fraction of lines in the original finance data are for the 16 candidates running as Democrats for at large spots on City Council. There are several types of data in the `DocType` column:"
   ]
  },
  {
   "cell_type": "code",
   "execution_count": 5,
   "metadata": {
    "collapsed": false
   },
   "outputs": [
    {
     "name": "stdout",
     "output_type": "stream",
     "text": [
      "['FilerName' 'Year' 'Cycle' 'DocType' 'EntityName' 'EntityAddressLine1'\n",
      " 'EntityAddressLine2' 'EntityCity' 'EntityState' 'EntityZip' 'Occupation'\n",
      " 'EmployerName' 'EmployerAddressLine1' 'EmployerAddressLine2'\n",
      " 'EmployerCity' 'EmployerState' 'EmployerZip' 'Date' 'Amount' 'Description'\n",
      " 'Amended' 'SubDate' 'FiledBy']\n",
      "\n",
      " Document types:\n",
      "['Campaign Finance Report (Cover Page)'\n",
      " 'CFR - Schedule I - Part C - Contributions Received From Political Committees (Over $250.00)'\n",
      " 'Campaign Finance Statement'\n",
      " 'CFR - Schedule IV - Statement of Unpaid Depts'\n",
      " 'CFR - Schedule III - Statement of Expenditures'\n",
      " 'CFR - Schedule I - Part E - Other Receipts'\n",
      " 'CFR - Schedule II - Part G - In-Kind Contributions Received (Value Over $250.00)'\n",
      " 'CFR - Schedule II - Part F - In-Kind Contributions Received (Value of $50.01 to $250.00)'\n",
      " 'CFR - Schedule I - Part B - All Other Contributions ($50.01 - $250.00)'\n",
      " 'CFR - Schedule I - Part D - All Other Contributions (Over $250.00)'\n",
      " 'CFR - Schedule I - Part A - Contributions Received From Political Committees ($50.01 to $250.00)']\n"
     ]
    }
   ],
   "source": [
    "print at_large_dem_cc_cycle3.columns.values\n",
    "print '\\n Document types:'\n",
    "print at_large_dem_cc_cycle3.DocType.unique()"
   ]
  },
  {
   "cell_type": "markdown",
   "metadata": {},
   "source": [
    "Let's look at just expenditures for now. (Keep reading... this isn't the actual number.)"
   ]
  },
  {
   "cell_type": "code",
   "execution_count": 6,
   "metadata": {
    "collapsed": false
   },
   "outputs": [
    {
     "name": "stdout",
     "output_type": "stream",
     "text": [
      "Number of expenditures by all dem at large city council candidates during cycle 3: 1081\n",
      "Total spending by those candidates: 2910301.4\n"
     ]
    }
   ],
   "source": [
    "aldccc3_expenditures = at_large_dem_cc_cycle3[at_large_dem_cc_cycle3.DocType.str.contains('Expenditures')]\n",
    "print 'Number of expenditures by all dem at large city council candidates during cycle 3: '\\\n",
    "        +str(len(aldccc3_expenditures))\n",
    "print 'Total spending by those candidates: ' + str(aldccc3_expenditures.Amount.sum())"
   ]
  },
  {
   "cell_type": "markdown",
   "metadata": {},
   "source": [
    "This is not an unbelievable number, but it seemed high to me. I took a peak inside the actual data and found many lines are duplicated when the `Amended` column is marked yes. It appears the Year-To-Date data keeps all filing submissions including those that are amended. So I wrote the following function to filter out the amended lines."
   ]
  },
  {
   "cell_type": "code",
   "execution_count": 7,
   "metadata": {
    "collapsed": true
   },
   "outputs": [],
   "source": [
    "def filter_amends(df):\n",
    "    \"\"\"\n",
    "    df is a ytd data frame including amended reports.\n",
    "    This function filters out duplicate information in amendment stages and \n",
    "    keeps only the latest data.\n",
    "    Pseudocode:\n",
    "        -for each cycle check for each filer check if amended records\n",
    "            -if filer in cycle had an amended record get most recent subdate:\n",
    "                keep those lines\n",
    "            -if filer had no amendments in cycle keep those lines\n",
    "    returns a list of indices of lines in dataframe corresponding to latest\n",
    "    filing data\n",
    "    \"\"\"\n",
    "    indices_to_keep = np.array([],dtype='int64')\n",
    "    cycles = df.Cycle.unique()\n",
    "    for c in cycles:\n",
    "        filers = df.loc[df.Cycle==c].FilerName.unique()\n",
    "        dfc = df.loc[df.Cycle==c]\n",
    "        for f in filers:\n",
    "            dfcf = dfc.loc[dfc.FilerName==f]\n",
    "            if np.sum(dfcf.Amended.str.contains('Y|y',na=False)):\n",
    "                #print \"amended: \" + str(dfcf.SubDate.max())\n",
    "                maxdate = dfcf.SubDate.max()\n",
    "                #print 'amended: '+str(dfcf.loc[dfcf.SubDate == maxdate].index)\n",
    "                indices_to_keep=np.append(indices_to_keep,dfcf.loc[dfcf.SubDate == maxdate].index)\n",
    "            else:\n",
    "                #print \"not amended\"\n",
    "                indices_to_keep=np.append(indices_to_keep,dfcf.index)\n",
    "    return indices_to_keep"
   ]
  },
  {
   "cell_type": "code",
   "execution_count": 8,
   "metadata": {
    "collapsed": false
   },
   "outputs": [
    {
     "name": "stdout",
     "output_type": "stream",
     "text": [
      "Number of expenditures by all dem at large city council candidates during cycle 3: 909\n",
      "Total spending by those candidates: 2675434.78\n"
     ]
    }
   ],
   "source": [
    "fytddata = ytddata.iloc[filter_amends(ytddata)]\n",
    "cycle3_data = fytddata[fytddata.Cycle==3]\n",
    "at_large_dem_cc_cycle3 = cycle3_data[cycle3_data.FilerName.isin(dem_tags.Filers.values)]\n",
    "aldccc3_expenditures = at_large_dem_cc_cycle3[at_large_dem_cc_cycle3.DocType.str.contains('Expenditures')]\n",
    "print 'Number of expenditures by all dem at large city council candidates during cycle 3: '\\\n",
    "        +str(len(aldccc3_expenditures))\n",
    "print 'Total spending by those candidates: ' + str(aldccc3_expenditures.Amount.sum())"
   ]
  },
  {
   "cell_type": "markdown",
   "metadata": {},
   "source": [
    "Not much lower, but that's the best I can discern for now. \n",
    "Let's filter the voting data now and compute the voter percentages."
   ]
  },
  {
   "cell_type": "code",
   "execution_count": 14,
   "metadata": {
    "collapsed": false
   },
   "outputs": [
    {
     "name": "stdout",
     "output_type": "stream",
     "text": [
      "Total number of votes: 643951\n",
      "                          VOTE  VOTE_PCT\n",
      "CANDIDATE                               \n",
      "MARNIE AUMENT LOUGHREY   10890  0.016911\n",
      "CARLA M CAIN             17115  0.026578\n",
      "WILSON ALEXANDER         19210  0.029831\n",
      "FRANK RIZZO              26260  0.040780\n",
      "THOMAS WYATT             30310  0.047069\n",
      "JENNE AYERS              32637  0.050682\n",
      "PAUL STEINKE             37104  0.057619\n",
      "ED NEILSON               40786  0.063337\n",
      "SHERRIE COHEN            45847  0.071196\n",
      "W WILSON GOODE JR        46555  0.072296\n",
      "ISAIAH THOMAS            48000  0.074540\n",
      "HELEN GYM                49270  0.076512\n",
      "WILLIAM K GREENLEE       50849  0.078964\n",
      "ALLAN DOMB               57691  0.089589\n",
      "BLONDELL REYNOLDS BROWN  62922  0.097712\n",
      "DEREK S GREEN            68505  0.106382\n"
     ]
    }
   ],
   "source": [
    "dcc_primary_votedata = primary_2015[primary_2015.CANDIDATE.isin(dem_tags.VotesName.values)]\n",
    "tot_votes = dcc_primary_votedata.VOTE.sum()\n",
    "print \"Total number of votes: \" +str(tot_votes) #this is all votes (not all voters)\n",
    "cgroup = dcc_primary_votedata.groupby('CANDIDATE').sum()\n",
    "vote_pcts = (1.0*dcc_primary_votedata.groupby('CANDIDATE').sum()['VOTE'].values/tot_votes)\n",
    "cgroup = cgroup.drop(['WARD','DIVISION'],axis=1)\n",
    "cgroup['VOTE_PCT'] = vote_pcts\n",
    "print cgroup.sort_values('VOTE_PCT')"
   ]
  },
  {
   "cell_type": "markdown",
   "metadata": {},
   "source": [
    "This is consistent with the voter percentages on the city commisioners website {% marginnote 'philly-votes' '[http://www.philadelphiavotes.com/](http://www.philadelphiavotes.com/)' %}."
   ]
  },
  {
   "cell_type": "markdown",
   "metadata": {},
   "source": [
    "\n",
    "## Analysis part 1\n",
    "Let's see what's in the description of those expenditures."
   ]
  },
  {
   "cell_type": "code",
   "execution_count": 15,
   "metadata": {
    "collapsed": false,
    "scrolled": false
   },
   "outputs": [
    {
     "data": {
      "text/plain": [
       "Credit Card Processing Fee    108\n",
       "Election Day Salary           101\n",
       "Election Day Expenses          45\n",
       "GOTV field work                44\n",
       "Donation                       37\n",
       "GOTV                           36\n",
       "Salary                         25\n",
       "Parking                        22\n",
       "Consulting                     22\n",
       "Election Day field             21\n",
       "Contribution                   21\n",
       "Advertising                    20\n",
       "Printing                       19\n",
       "Office Supplies                11\n",
       "Election Day                   10\n",
       "Gas                             7\n",
       "Advertisements                  7\n",
       "Mail & Media Services           7\n",
       "Contribution Refund             7\n",
       "Campaign Materials              6\n",
       "Field Expenses                  6\n",
       "Taxi                            5\n",
       "Stipend                         5\n",
       "Service Fee                     5\n",
       "Payroll                         4\n",
       "Name: Description, dtype: int64"
      ]
     },
     "execution_count": 15,
     "metadata": {},
     "output_type": "execute_result"
    }
   ],
   "source": [
    "aldccc3_expenditures.Description.value_counts()[:25]"
   ]
  },
  {
   "cell_type": "markdown",
   "metadata": {},
   "source": [
    "There are a lot of questions one could ask. The `value_counts` function matches values exactly, so differences in capitalization will create new lines. And there are many other entries that probably mean identitical things, e.g., \"GOTV\" and \"GOTV field work\" and probably \"Election Day Salary\". It's hard to say given the current filing system.\n"
   ]
  },
  {
   "cell_type": "markdown",
   "metadata": {},
   "source": [
    "## Add Voter data tag to campaign finances"
   ]
  },
  {
   "cell_type": "code",
   "execution_count": 16,
   "metadata": {
    "collapsed": false
   },
   "outputs": [],
   "source": [
    "def add_vote_name(x):\n",
    "    x['VotesName']=dem_tags[dem_tags.Filers.str.contains(x['FilerName'].values[0])].VotesName.values[0]\n",
    "    return x\n",
    "aldccc3_vname = at_large_dem_cc_cycle3.groupby('FilerName').apply(add_vote_name)"
   ]
  },
  {
   "cell_type": "markdown",
   "metadata": {},
   "source": [
    "In playing with the data some at this point, I noticed a couple of Council Candidates are missing data... Marnie Aument Loughrey did not file a cycle 3 report at all. This is consistent with the absence of a folder with her name in the directory at: [ftp://ftp.phila-records.com/2015/Cycle%203/](ftp://ftp.phila-records.com/2015/Cycle%203/) I also found W. Wilson Goode Jr. had no expenses in cycle 3 according to his report. They wil be excluded from the plots below."
   ]
  },
  {
   "cell_type": "code",
   "execution_count": 17,
   "metadata": {
    "collapsed": false
   },
   "outputs": [],
   "source": [
    "dtsums = aldccc3_vname.groupby(['VotesName','DocType'])['Amount'].sum()"
   ]
  },
  {
   "cell_type": "code",
   "execution_count": 18,
   "metadata": {
    "collapsed": false
   },
   "outputs": [],
   "source": [
    "expenseslist = cgroup.copy()\n",
    "for name in list(dtsums.index.levels[0].values):\n",
    "    if name in dtsums[:,'CFR - Schedule III - Statement of Expenditures']:\n",
    "        expenseslist.loc[name,'Expense']=dtsums[name,'CFR - Schedule III - Statement of Expenditures']"
   ]
  },
  {
   "cell_type": "code",
   "execution_count": 19,
   "metadata": {
    "collapsed": false
   },
   "outputs": [
    {
     "data": {
      "text/html": [
       "<div>\n",
       "<table border=\"1\" class=\"dataframe\">\n",
       "  <thead>\n",
       "    <tr style=\"text-align: right;\">\n",
       "      <th></th>\n",
       "      <th>VOTE</th>\n",
       "      <th>VOTE_PCT</th>\n",
       "      <th>Expense</th>\n",
       "    </tr>\n",
       "    <tr>\n",
       "      <th>CANDIDATE</th>\n",
       "      <th></th>\n",
       "      <th></th>\n",
       "      <th></th>\n",
       "    </tr>\n",
       "  </thead>\n",
       "  <tbody>\n",
       "    <tr>\n",
       "      <th>ALLAN DOMB</th>\n",
       "      <td>57691</td>\n",
       "      <td>0.089589</td>\n",
       "      <td>1546447.86</td>\n",
       "    </tr>\n",
       "    <tr>\n",
       "      <th>BLONDELL REYNOLDS BROWN</th>\n",
       "      <td>62922</td>\n",
       "      <td>0.097712</td>\n",
       "      <td>7500.20</td>\n",
       "    </tr>\n",
       "    <tr>\n",
       "      <th>CARLA M CAIN</th>\n",
       "      <td>17115</td>\n",
       "      <td>0.026578</td>\n",
       "      <td>280.00</td>\n",
       "    </tr>\n",
       "    <tr>\n",
       "      <th>DEREK S GREEN</th>\n",
       "      <td>68505</td>\n",
       "      <td>0.106382</td>\n",
       "      <td>92689.04</td>\n",
       "    </tr>\n",
       "    <tr>\n",
       "      <th>ED NEILSON</th>\n",
       "      <td>40786</td>\n",
       "      <td>0.063337</td>\n",
       "      <td>60258.56</td>\n",
       "    </tr>\n",
       "    <tr>\n",
       "      <th>FRANK RIZZO</th>\n",
       "      <td>26260</td>\n",
       "      <td>0.040780</td>\n",
       "      <td>12121.19</td>\n",
       "    </tr>\n",
       "    <tr>\n",
       "      <th>HELEN GYM</th>\n",
       "      <td>49270</td>\n",
       "      <td>0.076512</td>\n",
       "      <td>225899.67</td>\n",
       "    </tr>\n",
       "    <tr>\n",
       "      <th>ISAIAH THOMAS</th>\n",
       "      <td>48000</td>\n",
       "      <td>0.074540</td>\n",
       "      <td>107939.81</td>\n",
       "    </tr>\n",
       "    <tr>\n",
       "      <th>JENNE AYERS</th>\n",
       "      <td>32637</td>\n",
       "      <td>0.050682</td>\n",
       "      <td>7979.35</td>\n",
       "    </tr>\n",
       "    <tr>\n",
       "      <th>MARNIE AUMENT LOUGHREY</th>\n",
       "      <td>10890</td>\n",
       "      <td>0.016911</td>\n",
       "      <td>NaN</td>\n",
       "    </tr>\n",
       "    <tr>\n",
       "      <th>PAUL STEINKE</th>\n",
       "      <td>37104</td>\n",
       "      <td>0.057619</td>\n",
       "      <td>147315.94</td>\n",
       "    </tr>\n",
       "    <tr>\n",
       "      <th>SHERRIE COHEN</th>\n",
       "      <td>45847</td>\n",
       "      <td>0.071196</td>\n",
       "      <td>194089.34</td>\n",
       "    </tr>\n",
       "    <tr>\n",
       "      <th>THOMAS WYATT</th>\n",
       "      <td>30310</td>\n",
       "      <td>0.047069</td>\n",
       "      <td>195789.44</td>\n",
       "    </tr>\n",
       "    <tr>\n",
       "      <th>W WILSON GOODE JR</th>\n",
       "      <td>46555</td>\n",
       "      <td>0.072296</td>\n",
       "      <td>NaN</td>\n",
       "    </tr>\n",
       "    <tr>\n",
       "      <th>WILLIAM K GREENLEE</th>\n",
       "      <td>50849</td>\n",
       "      <td>0.078964</td>\n",
       "      <td>76591.44</td>\n",
       "    </tr>\n",
       "    <tr>\n",
       "      <th>WILSON ALEXANDER</th>\n",
       "      <td>19210</td>\n",
       "      <td>0.029831</td>\n",
       "      <td>532.94</td>\n",
       "    </tr>\n",
       "  </tbody>\n",
       "</table>\n",
       "</div>"
      ],
      "text/plain": [
       "                          VOTE  VOTE_PCT     Expense\n",
       "CANDIDATE                                           \n",
       "ALLAN DOMB               57691  0.089589  1546447.86\n",
       "BLONDELL REYNOLDS BROWN  62922  0.097712     7500.20\n",
       "CARLA M CAIN             17115  0.026578      280.00\n",
       "DEREK S GREEN            68505  0.106382    92689.04\n",
       "ED NEILSON               40786  0.063337    60258.56\n",
       "FRANK RIZZO              26260  0.040780    12121.19\n",
       "HELEN GYM                49270  0.076512   225899.67\n",
       "ISAIAH THOMAS            48000  0.074540   107939.81\n",
       "JENNE AYERS              32637  0.050682     7979.35\n",
       "MARNIE AUMENT LOUGHREY   10890  0.016911         NaN\n",
       "PAUL STEINKE             37104  0.057619   147315.94\n",
       "SHERRIE COHEN            45847  0.071196   194089.34\n",
       "THOMAS WYATT             30310  0.047069   195789.44\n",
       "W WILSON GOODE JR        46555  0.072296         NaN\n",
       "WILLIAM K GREENLEE       50849  0.078964    76591.44\n",
       "WILSON ALEXANDER         19210  0.029831      532.94"
      ]
     },
     "execution_count": 19,
     "metadata": {},
     "output_type": "execute_result"
    }
   ],
   "source": [
    "expenseslist"
   ]
  },
  {
   "cell_type": "code",
   "execution_count": 20,
   "metadata": {
    "collapsed": false
   },
   "outputs": [
    {
     "data": {
      "image/png": "[encoded data removed]",
      "text/plain": [
       "<matplotlib.figure.Figure at 0x117bc8d10>"
      ]
     },
     "metadata": {},
     "output_type": "display_data"
    }
   ],
   "source": [
    "import matplotlib.pyplot as plt\n",
    "%matplotlib inline\n",
    "plt.figure(figsize=(8,6))\n",
    "plt.scatter(expenseslist.Expense,expenseslist.VOTE_PCT)\n",
    "plt.title('Total Candidate Spending vs. Vote %',size=20)\n",
    "plt.xlabel('Candidate Spending (\\$)',size=20)\n",
    "plt.ylabel('Candidate Vote Percentage',size=20)\n",
    "plt.tick_params(axis='x', pad=8)\n",
    "plt.tick_params(axis='both', which='major', labelsize=16)"
   ]
  },
  {
   "cell_type": "markdown",
   "metadata": {},
   "source": [
    "Ok, one candidate (Alan Domb) outspent the next candidate by a factor of 10."
   ]
  },
  {
   "cell_type": "code",
   "execution_count": 21,
   "metadata": {
    "collapsed": false
   },
   "outputs": [
    {
     "data": {
      "image/png": "[encoded data removed]",
      "text/plain": [
       "<matplotlib.figure.Figure at 0x119846210>"
      ]
     },
     "metadata": {},
     "output_type": "display_data"
    }
   ],
   "source": [
    "plt.figure(figsize=(8,6))\n",
    "plt.scatter(np.log10(expenseslist.Expense),expenseslist.VOTE_PCT)\n",
    "plt.title('Total Candidate Spending vs. Vote %',size=20)\n",
    "plt.xlabel('Log Candidate Spending (\\$)',size=20)\n",
    "plt.ylabel('Candidate Vote Percentage',size=20)\n",
    "plt.tick_params(axis='x', pad=8)\n",
    "plt.tick_params(axis='both', which='major', labelsize=16)"
   ]
  },
  {
   "cell_type": "markdown",
   "metadata": {},
   "source": [
    "Well... that's a pretty substanial return to dollars spent overall and I suspect the spending sums for some of those points is inaccurate (low).\n",
    "There is much more that can be discovered in this data as Tom Ferrick has [pointed](http://mobile.philly.com/beta?wss=/philly/news/politics/mayor&id=337265201) [out](http://www.philly.com/philly/news/politics/mayor/Ferrick_Election_Day_A_big_payday_for_Philly_political_bosses.html)."
   ]
  },
  {
   "cell_type": "code",
   "execution_count": null,
   "metadata": {
    "collapsed": true
   },
   "outputs": [],
   "source": []
  }
 ],
 "metadata": {
  "kernelspec": {
   "display_name": "Python 2",
   "language": "python",
   "name": "python2"
  },
  "language_info": {
   "codemirror_mode": {
    "name": "ipython",
    "version": 2
   },
   "file_extension": ".py",
   "mimetype": "text/x-python",
   "name": "python",
   "nbconvert_exporter": "python",
   "pygments_lexer": "ipython2",
   "version": "2.7.11"
  }
 },
 "nbformat": 4,
 "nbformat_minor": 0
}
